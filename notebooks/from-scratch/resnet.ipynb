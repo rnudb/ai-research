{
 "cells": [
  {
   "cell_type": "markdown",
   "metadata": {},
   "source": [
    "# Resnet\n",
    "\n",
    "\n",
    "Original paper: [Deep Residual Learning for Image Recognition](https://arxiv.org/abs/1512.03385)\n",
    "\n",
    "![resnet](https://miro.medium.com/v2/resize:fit:1400/1*tFlMRm_wjBDrgOQMhEM0cQ.png)\n",
    "\n",
    "ResNet50 is a convolutional neural network architecture commonly used for tasks like image classification and object detection. It consists of several blocks, including:\n",
    "\n",
    "1. **Input Layer**: This is where the input image data is fed into the network.\n",
    "\n",
    "2. **Convolutional Layers**: The initial layers perform convolution operations to extract features from the input image.\n",
    "\n",
    "3. **Residual Blocks**: These blocks are the key innovation of ResNet. Each residual block contains multiple convolutional layers along with skip connections, which allow the network to bypass certain layers. This helps in avoiding the vanishing gradient problem and facilitates training of very deep networks.\n",
    "\n",
    "4. **Pooling Layers**: Pooling layers are interspersed throughout the network to downsample feature maps, reducing computational complexity and focusing on important features.\n",
    "\n",
    "5. **Fully Connected Layers**: Towards the end of the network, fully connected layers are used for classification or regression tasks.\n",
    "\n",
    "6. **Output Layer**: The final layer of the network, which produces the output predictions based on the learned features.\n",
    "\n",
    "Each residual block typically consists of a few convolutional layers followed by batch normalization and ReLU activation functions. The skip connection in each block adds the input of the block to its output, allowing the network to learn residual mappings rather than directly fitting to the desired mappings. This helps in training deeper networks more effectively."
   ]
  },
  {
   "cell_type": "markdown",
   "metadata": {},
   "source": [
    "## Data\n",
    "\n",
    "[Dataset Card](https://huggingface.co/datasets/bastienp/visible-watermark-pita)\n",
    "\n",
    "In this notebook we will use the pita-watermark dataset which conatins images of the coco dataset that has watermarks added on top of them. \n",
    "\n",
    "The goal is to:\n",
    "- Detect watermarks \n",
    "- Remove watermarks \n",
    "\n",
    "\n",
    "#### TOOD: specify goals"
   ]
  },
  {
   "cell_type": "code",
   "execution_count": 3,
   "metadata": {},
   "outputs": [
    {
     "data": {
      "text/plain": [
       "DatasetDict({\n",
       "    train: Dataset({\n",
       "        features: ['image', 'bbox', 'id', 'area', 'image_id', 'category_id'],\n",
       "        num_rows: 12539\n",
       "    })\n",
       "    test: Dataset({\n",
       "        features: ['image', 'bbox', 'id', 'area', 'image_id', 'category_id'],\n",
       "        num_rows: 3089\n",
       "    })\n",
       "    val: Dataset({\n",
       "        features: ['image', 'bbox', 'id', 'area', 'image_id', 'category_id'],\n",
       "        num_rows: 3888\n",
       "    })\n",
       "})"
      ]
     },
     "execution_count": 3,
     "metadata": {},
     "output_type": "execute_result"
    }
   ],
   "source": [
    "from datasets import load_dataset\n",
    "\n",
    "dataset = load_dataset(\"bastienp/visible-watermark-pita\")\n",
    "dataset"
   ]
  },
  {
   "cell_type": "markdown",
   "metadata": {},
   "source": [
    "## Model"
   ]
  },
  {
   "cell_type": "code",
   "execution_count": 4,
   "metadata": {},
   "outputs": [],
   "source": [
    "import torch\n",
    "\n",
    "class Resnet50(torch.nn.Module):\n",
    "    def __init__(self):\n",
    "        super().__init__()\n",
    "\n",
    "    def forward(self, x):\n",
    "        return torch.rand(1, 1000)"
   ]
  },
  {
   "cell_type": "code",
   "execution_count": null,
   "metadata": {},
   "outputs": [],
   "source": []
  }
 ],
 "metadata": {
  "kernelspec": {
   "display_name": ".venv",
   "language": "python",
   "name": "python3"
  },
  "language_info": {
   "codemirror_mode": {
    "name": "ipython",
    "version": 3
   },
   "file_extension": ".py",
   "mimetype": "text/x-python",
   "name": "python",
   "nbconvert_exporter": "python",
   "pygments_lexer": "ipython3",
   "version": "3.11.6"
  }
 },
 "nbformat": 4,
 "nbformat_minor": 2
}
